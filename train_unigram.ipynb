{
 "cells": [
  {
   "cell_type": "code",
   "execution_count": 2,
   "metadata": {},
   "outputs": [],
   "source": [
    "import csv\n",
    "from tensorflow.keras.preprocessing.text import Tokenizer\n",
    "from tensorflow.keras.preprocessing.sequence import pad_sequences\n",
    "from unigram_model import unigram_model\n",
    "import numpy as np"
   ]
  },
  {
   "cell_type": "code",
   "execution_count": 2,
   "metadata": {},
   "outputs": [],
   "source": [
    "#vocab_size = 1000\n",
    "#oov_tok = \"<OOV>\""
   ]
  },
  {
   "cell_type": "code",
   "execution_count": 3,
   "metadata": {},
   "outputs": [],
   "source": [
    "def prepare_data(file_name):\n",
    "\n",
    "    # open data file\n",
    "\n",
    "    with open(file_name, 'r', encoding='utf-8') as csvfile:\n",
    "        reader = csv.reader(csvfile, delimiter=';')\n",
    "        next(reader)\n",
    "        all_data=[]\n",
    "        sentences=[]\n",
    "        labels=[]\n",
    "        for row in reader:\n",
    "            sentences.append(row[2]+\" \"+row[3]+\" \"+row[4])\n",
    "            labels.append(row[1].replace(' ',''))\n",
    "            \n",
    "    # split data into train and test sets\n",
    "            \n",
    "    split = int(len(sentences)/10)\n",
    "    test_sentences=sentences[:split]\n",
    "    train_sentences=sentences[split:]\n",
    "    test_labels=labels[:split]\n",
    "    train_labels=labels[split:]\n",
    "\n",
    "    # create tokenizer for most common words\n",
    "    \n",
    "    #tokenizer = Tokenizer(num_words = vocab_size, oov_token=oov_tok)\n",
    "    tokenizer = Tokenizer()\n",
    "    tokenizer.fit_on_texts(train_sentences)\n",
    "    word_index = tokenizer.word_index\n",
    "\n",
    "    train_sequences = tokenizer.texts_to_sequences(train_sentences)\n",
    "    test_sequences = tokenizer.texts_to_sequences(test_sentences)\n",
    "    \n",
    "    # prepare label data\n",
    "    \n",
    "    label_tokenizer = Tokenizer()\n",
    "    label_tokenizer.fit_on_texts(labels)\n",
    "    \n",
    "    training_label_seq = np.array(label_tokenizer.texts_to_sequences(train_labels))\n",
    "    test_label_seq = np.array(label_tokenizer.texts_to_sequences(test_labels))\n",
    "    \n",
    "    return (train_sequences, test_sequences,\n",
    "            training_label_seq, test_label_seq,\n",
    "            tokenizer, label_tokenizer)"
   ]
  },
  {
   "cell_type": "code",
   "execution_count": 4,
   "metadata": {},
   "outputs": [],
   "source": [
    "train_sequences, test_sequences, training_label_seq, test_label_seq, tokenizer, label_tokenizer = prepare_data(\"testset_C.csv\")"
   ]
  },
  {
   "cell_type": "code",
   "execution_count": 5,
   "metadata": {
    "scrolled": true
   },
   "outputs": [],
   "source": [
    "# create for each category a language model\n",
    "unigram_models={}\n",
    "for category in label_tokenizer.word_index.values():\n",
    "    model=unigram_model(category, len(tokenizer.word_index))\n",
    "    unigram_models[category]=model\n",
    "\n",
    "# fill models with counts\n",
    "for i in range(len(train_sequences)):\n",
    "    \n",
    "    # get the right index for the label\n",
    "    label = training_label_seq[i][0]\n",
    "    for word in train_sequences[i]:\n",
    "        unigram_models[label].add_word_entity(word)\n",
    "\n",
    "# and normalize them to probs\n",
    "for key in unigram_models.keys():\n",
    "    unigram_models[key].normalize_probs()"
   ]
  },
  {
   "cell_type": "code",
   "execution_count": 7,
   "metadata": {},
   "outputs": [
    {
     "name": "stdout",
     "output_type": "stream",
     "text": [
      "13 1 3\n",
      "83 2 3\n",
      "Accuracy:  0.9975\n"
     ]
    }
   ],
   "source": [
    "# analyze accuracy\n",
    "\n",
    "right=0.0\n",
    "wrong=0.0\n",
    "for i in range(len(test_sequences)):\n",
    "    label_gt = test_label_seq[i][0]\n",
    "    p_max=0\n",
    "    for key in unigram_models.keys():\n",
    "        p = unigram_models[key].get_sequence_probability(test_sequences[i])\n",
    "        if p > p_max:\n",
    "            p_max = p\n",
    "            label_predict = key\n",
    "            \n",
    "    if label_gt != label_predict:\n",
    "        wrong+=1\n",
    "        print(i,label_gt, label_predict)\n",
    "    else:\n",
    "        right+=1\n",
    "        \n",
    "print(\"Accuracy: \", right/(right+wrong))"
   ]
  },
  {
   "cell_type": "code",
   "execution_count": 9,
   "metadata": {},
   "outputs": [],
   "source": [
    "import pickle\n",
    "PIK = \"unigram_data/unigrams.dat\"\n",
    "data = [unigram_models, tokenizer, label_tokenizer]\n",
    "with open(PIK, \"wb\") as f:\n",
    "    pickle.dump(data, f)"
   ]
  }
 ],
 "metadata": {
  "kernelspec": {
   "display_name": "Python 3",
   "language": "python",
   "name": "python3"
  },
  "language_info": {
   "codemirror_mode": {
    "name": "ipython",
    "version": 3
   },
   "file_extension": ".py",
   "mimetype": "text/x-python",
   "name": "python",
   "nbconvert_exporter": "python",
   "pygments_lexer": "ipython3",
   "version": "3.6.9"
  }
 },
 "nbformat": 4,
 "nbformat_minor": 4
}
