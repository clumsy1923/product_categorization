{
 "cells": [
  {
   "cell_type": "code",
   "execution_count": 1,
   "metadata": {},
   "outputs": [],
   "source": [
    "import os\n",
    "import csv\n",
    "import tensorflow as tf\n",
    "from tensorflow.keras.preprocessing.text import Tokenizer\n",
    "from tensorflow.keras.preprocessing.sequence import pad_sequences\n",
    "from get_model import get_model\n",
    "import numpy as np"
   ]
  },
  {
   "cell_type": "code",
   "execution_count": 2,
   "metadata": {},
   "outputs": [],
   "source": [
    "vocab_size = 2000\n",
    "embedding_dim = 32\n",
    "max_length = 50\n",
    "trunc_type='post'\n",
    "padding_type='post'\n",
    "oov_tok = \"<OOV>\""
   ]
  },
  {
   "cell_type": "code",
   "execution_count": 5,
   "metadata": {},
   "outputs": [],
   "source": [
    "def prepare_data(file_name):\n",
    "    \n",
    "    # read data from file\n",
    "    \n",
    "    with open(file_name, 'r', encoding='utf-8') as csvfile:\n",
    "        reader = csv.reader(csvfile, delimiter=';')\n",
    "        next(reader)\n",
    "        all_data=[]\n",
    "        sentences=[]\n",
    "        labels=[]\n",
    "        for row in reader:\n",
    "            sentences.append(row[2]+\" \"+row[3])\n",
    "            labels.append(row[1].replace(' ',''))\n",
    "        \n",
    "    # split data into train and test sets\n",
    "    \n",
    "    split = int(len(sentences)/10)\n",
    "    test_sentences=sentences[:split]\n",
    "    train_sentences=sentences[split:]\n",
    "    test_labels=labels[:split]\n",
    "    train_labels=labels[split:]\n",
    "    \n",
    "    # create tokenizer for most common words\n",
    "    \n",
    "    tokenizer = Tokenizer(num_words = vocab_size, oov_token=oov_tok)\n",
    "    tokenizer.fit_on_texts(train_sentences)\n",
    "    word_index = tokenizer.word_index\n",
    "    \n",
    "    # translate sentences into index sequences\n",
    "    # fiull up with zeroes due to fixed imput length\n",
    "    \n",
    "    train_sequences = tokenizer.texts_to_sequences(train_sentences)\n",
    "    train_padded = pad_sequences(train_sequences, padding=padding_type, maxlen=max_length)\n",
    "    test_sequences = tokenizer.texts_to_sequences(test_sentences)\n",
    "    test_padded = pad_sequences(test_sequences, padding=padding_type, maxlen=max_length)\n",
    "    \n",
    "    # prepare labels\n",
    "    \n",
    "    label_tokenizer = Tokenizer()\n",
    "    label_tokenizer.fit_on_texts(labels)\n",
    "    training_label_seq = np.array(label_tokenizer.texts_to_sequences(train_labels))\n",
    "    test_label_seq = np.array(label_tokenizer.texts_to_sequences(test_labels))\n",
    "    \n",
    "    return (train_padded, test_padded,\n",
    "            training_label_seq, test_label_seq,\n",
    "            tokenizer, label_tokenizer)"
   ]
  },
  {
   "cell_type": "code",
   "execution_count": 8,
   "metadata": {},
   "outputs": [],
   "source": [
    "train_padded, test_padded, training_label_seq, test_label_seq, tokenizer, label_tokenizer = prepare_data(\"testset_C.csv\")\n"
   ]
  },
  {
   "cell_type": "code",
   "execution_count": 9,
   "metadata": {
    "scrolled": true
   },
   "outputs": [],
   "source": [
    "model=get_model(vocab_size, embedding_dim, max_length)"
   ]
  },
  {
   "cell_type": "code",
   "execution_count": 10,
   "metadata": {},
   "outputs": [
    {
     "name": "stdout",
     "output_type": "stream",
     "text": [
      "Epoch 1/30\n",
      "225/225 - 1s - loss: 1.3121 - accuracy: 0.6026 - val_loss: 0.8865 - val_accuracy: 0.9388\n",
      "Epoch 2/30\n",
      "225/225 - 0s - loss: 0.4020 - accuracy: 0.9772 - val_loss: 0.1549 - val_accuracy: 0.9825\n",
      "Epoch 3/30\n",
      "225/225 - 0s - loss: 0.0962 - accuracy: 0.9904 - val_loss: 0.0692 - val_accuracy: 0.9887\n",
      "Epoch 4/30\n",
      "225/225 - 0s - loss: 0.0476 - accuracy: 0.9950 - val_loss: 0.0452 - val_accuracy: 0.9912\n",
      "Epoch 5/30\n",
      "225/225 - 0s - loss: 0.0305 - accuracy: 0.9957 - val_loss: 0.0350 - val_accuracy: 0.9912\n",
      "Epoch 6/30\n",
      "225/225 - 0s - loss: 0.0221 - accuracy: 0.9969 - val_loss: 0.0300 - val_accuracy: 0.9925\n",
      "Epoch 7/30\n",
      "225/225 - 0s - loss: 0.0170 - accuracy: 0.9969 - val_loss: 0.0260 - val_accuracy: 0.9925\n",
      "Epoch 8/30\n",
      "225/225 - 0s - loss: 0.0137 - accuracy: 0.9976 - val_loss: 0.0229 - val_accuracy: 0.9937\n",
      "Epoch 9/30\n",
      "225/225 - 0s - loss: 0.0112 - accuracy: 0.9978 - val_loss: 0.0203 - val_accuracy: 0.9950\n",
      "Epoch 10/30\n",
      "225/225 - 0s - loss: 0.0094 - accuracy: 0.9979 - val_loss: 0.0199 - val_accuracy: 0.9975\n",
      "Epoch 11/30\n",
      "225/225 - 0s - loss: 0.0085 - accuracy: 0.9982 - val_loss: 0.0187 - val_accuracy: 0.9937\n",
      "Epoch 12/30\n",
      "225/225 - 0s - loss: 0.0072 - accuracy: 0.9986 - val_loss: 0.0180 - val_accuracy: 0.9975\n",
      "Epoch 13/30\n",
      "225/225 - 0s - loss: 0.0063 - accuracy: 0.9986 - val_loss: 0.0188 - val_accuracy: 0.9975\n",
      "Epoch 14/30\n",
      "225/225 - 0s - loss: 0.0058 - accuracy: 0.9987 - val_loss: 0.0183 - val_accuracy: 0.9975\n",
      "Epoch 15/30\n",
      "225/225 - 0s - loss: 0.0051 - accuracy: 0.9986 - val_loss: 0.0173 - val_accuracy: 0.9950\n",
      "Epoch 16/30\n",
      "225/225 - 0s - loss: 0.0047 - accuracy: 0.9989 - val_loss: 0.0158 - val_accuracy: 0.9975\n",
      "Epoch 17/30\n",
      "225/225 - 0s - loss: 0.0042 - accuracy: 0.9989 - val_loss: 0.0168 - val_accuracy: 0.9962\n",
      "Epoch 18/30\n",
      "225/225 - 0s - loss: 0.0041 - accuracy: 0.9990 - val_loss: 0.0157 - val_accuracy: 0.9962\n",
      "Epoch 19/30\n",
      "225/225 - 0s - loss: 0.0037 - accuracy: 0.9993 - val_loss: 0.0167 - val_accuracy: 0.9962\n",
      "Epoch 20/30\n",
      "225/225 - 0s - loss: 0.0036 - accuracy: 0.9992 - val_loss: 0.0162 - val_accuracy: 0.9962\n",
      "Epoch 21/30\n",
      "225/225 - 0s - loss: 0.0034 - accuracy: 0.9990 - val_loss: 0.0160 - val_accuracy: 0.9975\n",
      "Epoch 22/30\n",
      "225/225 - 0s - loss: 0.0037 - accuracy: 0.9989 - val_loss: 0.0174 - val_accuracy: 0.9975\n",
      "Epoch 23/30\n",
      "225/225 - 0s - loss: 0.0031 - accuracy: 0.9990 - val_loss: 0.0157 - val_accuracy: 0.9975\n",
      "Epoch 24/30\n",
      "225/225 - 0s - loss: 0.0027 - accuracy: 0.9993 - val_loss: 0.0169 - val_accuracy: 0.9975\n",
      "Epoch 25/30\n",
      "225/225 - 0s - loss: 0.0030 - accuracy: 0.9989 - val_loss: 0.0170 - val_accuracy: 0.9937\n",
      "Epoch 26/30\n",
      "225/225 - 0s - loss: 0.0035 - accuracy: 0.9989 - val_loss: 0.0168 - val_accuracy: 0.9950\n",
      "Epoch 27/30\n",
      "225/225 - 0s - loss: 0.0026 - accuracy: 0.9989 - val_loss: 0.0169 - val_accuracy: 0.9962\n",
      "Epoch 28/30\n",
      "225/225 - 1s - loss: 0.0023 - accuracy: 0.9994 - val_loss: 0.0187 - val_accuracy: 0.9950\n",
      "Epoch 29/30\n",
      "225/225 - 0s - loss: 0.0026 - accuracy: 0.9992 - val_loss: 0.0166 - val_accuracy: 0.9975\n",
      "Epoch 30/30\n",
      "225/225 - 0s - loss: 0.0023 - accuracy: 0.9994 - val_loss: 0.0163 - val_accuracy: 0.9975\n"
     ]
    }
   ],
   "source": [
    "num_epochs = 30\n",
    "history = model.fit(train_padded, training_label_seq, epochs=num_epochs, validation_data=(test_padded, test_label_seq), verbose=2)"
   ]
  },
  {
   "cell_type": "code",
   "execution_count": null,
   "metadata": {},
   "outputs": [],
   "source": [
    "import pickle\n",
    "\n",
    "os.makedirs(\"dl_data\", exist_ok=True)\n",
    "model.save_weights(\"dl_data/gfk_model.h5\")\n",
    "PIK = \"dl_data/tokenizers.dat\"\n",
    "data = [tokenizer, label_tokenizer]\n",
    "with open(PIK, \"wb\") as f:\n",
    "    pickle.dump(data, f)"
   ]
  },
  {
   "cell_type": "code",
   "execution_count": null,
   "metadata": {},
   "outputs": [],
   "source": [
    "print(label_tokenizer.word_index)"
   ]
  },
  {
   "cell_type": "code",
   "execution_count": null,
   "metadata": {},
   "outputs": [],
   "source": [
    "results = model.predict(test_padded)\n",
    "result_labels = []\n",
    "for res in results:\n",
    "    result_labels.append(np.argmax(res))\n",
    "    \n",
    "for i in range(len(results)):\n",
    "    if result_labels[i] != test_label_seq[i][0]:\n",
    "        print(\"wrong prediction\": result_labels[i], test_label_seq[i][0])"
   ]
  }
 ],
 "metadata": {
  "kernelspec": {
   "display_name": "Python 3",
   "language": "python",
   "name": "python3"
  },
  "language_info": {
   "codemirror_mode": {
    "name": "ipython",
    "version": 3
   },
   "file_extension": ".py",
   "mimetype": "text/x-python",
   "name": "python",
   "nbconvert_exporter": "python",
   "pygments_lexer": "ipython3",
   "version": "3.6.9"
  }
 },
 "nbformat": 4,
 "nbformat_minor": 4
}
